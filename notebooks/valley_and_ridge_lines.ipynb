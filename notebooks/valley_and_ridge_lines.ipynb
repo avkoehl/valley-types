{
 "cells": [
  {
   "cell_type": "markdown",
   "id": "fe65f401",
   "metadata": {},
   "source": [
    "https://juniperpublishers.com/cerj/pdf/CERJ.MS.ID.555709.pdf\n",
    "\n",
    "Two methods:\n",
    "1) high pass filter -> segment -> mask -> repeat then ... prune and clean into 1px wide lines\n",
    "2) hydrologic flow model of accumulation with threshold to find valley lines\n",
    "\n",
    "overlay river networks ontop of all this"
   ]
  },
  {
   "cell_type": "code",
   "execution_count": 1,
   "id": "e90f6a2d",
   "metadata": {},
   "outputs": [],
   "source": [
    "import matplotlib.pyplot as plt\n",
    "import numpy as np\n",
    "import rasterio\n",
    "from rasterio.plot import show\n",
    "from rasterio.plot import show_hist"
   ]
  },
  {
   "cell_type": "code",
   "execution_count": 2,
   "id": "06479434",
   "metadata": {},
   "outputs": [],
   "source": [
    "src = rasterio.open(\"../toy_data/USGS13:-122.57_37.81_-122.45_37.87.tif\")"
   ]
  },
  {
   "cell_type": "code",
   "execution_count": null,
   "id": "c8ec9659",
   "metadata": {},
   "outputs": [],
   "source": []
  }
 ],
 "metadata": {
  "kernelspec": {
   "display_name": "Python 3 (ipykernel)",
   "language": "python",
   "name": "python3"
  },
  "language_info": {
   "codemirror_mode": {
    "name": "ipython",
    "version": 3
   },
   "file_extension": ".py",
   "mimetype": "text/x-python",
   "name": "python",
   "nbconvert_exporter": "python",
   "pygments_lexer": "ipython3",
   "version": "3.8.10"
  }
 },
 "nbformat": 4,
 "nbformat_minor": 5
}
